{
 "cells": [
  {
   "cell_type": "raw",
   "metadata": {
    "vscode": {
     "languageId": "raw"
    }
   },
   "source": [
    "---\n",
    "title: \"Report: Collections at Allied between 6/28-9/3\"\n",
    "engine: jupyter\n",
    "execute:\n",
    "  enabled: true\n",
    "  echo: false   \n",
    "---"
   ]
  },
  {
   "cell_type": "code",
   "execution_count": 1,
   "metadata": {},
   "outputs": [],
   "source": [
    "import pandas as pd\n",
    "import numpy as np\n",
    "import matplotlib.pyplot as plt\n",
    "import matplotlib\n",
    "\n",
    "import requests\n",
    "import json\n",
    "\n",
    "from collections import Counter"
   ]
  },
  {
   "cell_type": "code",
   "execution_count": 2,
   "metadata": {},
   "outputs": [],
   "source": [
    "DATA_API_URL = \"https://upwins.azurewebsites.net/api/find\""
   ]
  },
  {
   "cell_type": "code",
   "execution_count": 3,
   "metadata": {},
   "outputs": [],
   "source": [
    "response = requests.post(DATA_API_URL)"
   ]
  },
  {
   "cell_type": "code",
   "execution_count": 4,
   "metadata": {},
   "outputs": [],
   "source": [
    "records = json.loads(response.text)"
   ]
  },
  {
   "cell_type": "code",
   "execution_count": 5,
   "metadata": {},
   "outputs": [],
   "source": [
    "df = pd.DataFrame(records)"
   ]
  },
  {
   "cell_type": "code",
   "execution_count": 6,
   "metadata": {},
   "outputs": [],
   "source": [
    "names = df['ASD UPWINS base_fname'].to_numpy()\n",
    "wl = np.array(list(df['spectrum'][0].keys()), dtype=float)\n",
    "spectra = np.array([list(spectrum.values()) for spectrum in df['spectrum']])"
   ]
  },
  {
   "cell_type": "code",
   "execution_count": 7,
   "metadata": {},
   "outputs": [],
   "source": [
    "# remove spectra with large derivate, which are the spectra collected using sunlight\n",
    "derivitive = np.mean(np.abs(spectra[:,1:]-spectra[:,:-1]), axis=1)\n",
    "select_indices = np.where(derivitive<0.0025)[0]\n",
    "# create variables for the library data \n",
    "names = names[select_indices]\n",
    "spectra = spectra[select_indices,:]\n",
    "#wl = np.asarray(lib.bands.centers)\n",
    "# create variables for the library metadata \n",
    "nSpec = len(names)\n",
    "nBands = len(wl)\n",
    "\n",
    "#print(' ')\n",
    "#print('...remove spectra collected using outdoor solar illumination...')\n",
    "#print(' ')\n",
    "#print(f'Number of spectra: {nSpec}')\n",
    "#print(f'Number of bands: {nBands}')"
   ]
  },
  {
   "cell_type": "code",
   "execution_count": 8,
   "metadata": {},
   "outputs": [],
   "source": [
    "# Extract the metadata as numpy arrays\n",
    "genus = []\n",
    "species = []\n",
    "principle_part = []\n",
    "health = []\n",
    "growth_stage = []\n",
    "DateTimeId = []\n",
    "month = []\n",
    "plant_type = []\n",
    "name = []\n",
    "name_full_category = []\n",
    "name_genus_species = []\n",
    "select_indices = []\n",
    "for i in range(len(df)):\n",
    "    \n",
    "    try:\n",
    "\n",
    "        row = df.loc[df['ASD UPWINS base_fname'] == names[i]]\n",
    "\n",
    "        # if the spectrum has a corresponding row in the csv\n",
    "        if (row['sub-category'].values[0] not in ['NA','backrounds']) & (row['category'].values[0] in ['vegetation','target_vegetation','soil','road']):\n",
    "            select_indices.append(i)\n",
    "            plant_type.append(row['sub-category'].values[0])\n",
    "            genus.append(row['genus'].values[0])\n",
    "            species.append(row['species'].values[0])\n",
    "            principle_part.append(row['principal_part'].values[0])\n",
    "            health.append(row['health'].values[0])\n",
    "            growth_stage.append(row['growth_stage'].values[0])\n",
    "            name_genus_species.append(row['genus'].values[0]+'_'+row['species'].values[0])\n",
    "            DateTimeId.append(row['DateTimeUniqueIdentifier'].values[0])\n",
    "            month.append(row['DateTimeUniqueIdentifier'].values[0][4:6])\n",
    "            if row['genus'].values[0]=='NA':\n",
    "                #not in our primary target vegetation library\n",
    "                name.append(row['sub-category'].values[0])\n",
    "                name_full_category.append(row['sub-category'].values[0]+'_'+row['principal_part'].values[0]+'_'+row['health'].values[0]+'_'+row['growth_stage'].values[0])\n",
    "            else:\n",
    "                name.append(row['genus'].values[0]+'_'+row['species'].values[0])\n",
    "                name_full_category.append(row['genus'].values[0]+'_'+row['species'].values[0]+'_'+row['principal_part'].values[0]+'_'+row['health'].values[0]+'_'+row['growth_stage'].values[0])\n",
    "    except:\n",
    "        continue\n",
    "\n",
    "#print(len(select_indices))\n",
    "\n",
    "names = names[select_indices]\n",
    "spectra = spectra[select_indices,:]\n",
    "# create variables for the library metadata \n",
    "nSpec = len(names)\n",
    "nBands = len(wl)\n",
    "\n",
    "#print(f'Number of spectra: {nSpec}')\n",
    "#print(f'Number of bands: {nBands}')\n",
    "genus = np.asarray(genus)\n",
    "species = np.asarray(species)\n",
    "principle_part = np.asarray(principle_part)\n",
    "health = np.asarray(health)\n",
    "growth_stage = np.asarray(growth_stage)\n",
    "DateTimeId = np.asarray(DateTimeId)\n",
    "month = np.asarray(month)\n",
    "name = np.asarray(name)\n",
    "name_genus_species = np.asarray(name_genus_species)\n",
    "name_full_category = np.asarray(name_full_category)\n",
    "plant_type = np.asarray(plant_type)\n"
   ]
  },
  {
   "cell_type": "code",
   "execution_count": 9,
   "metadata": {},
   "outputs": [],
   "source": [
    "nSpec = spectra.shape[0]\n",
    "nBands = spectra.shape[1]\n",
    "minWl = float(np.min(wl))\n",
    "maxWl = float(np.max(wl))\n",
    "\n",
    "#print(f'Min wavelength: {np.min(wl)}')\n",
    "#print(f'Max wavelength: {np.max(wl)}')\n",
    "#print(f'Number of Spectra: {nSpec}')\n",
    "#print(f'Number of Bands: {nBands}')"
   ]
  },
  {
   "cell_type": "markdown",
   "metadata": {
    "user_expressions": [
     {
      "expression": "minWl",
      "result": {
       "data": {
        "text/plain": "350.0"
       },
       "metadata": {},
       "status": "ok"
      }
     },
     {
      "expression": "maxWl",
      "result": {
       "data": {
        "text/plain": "2500.0"
       },
       "metadata": {},
       "status": "ok"
      }
     },
     {
      "expression": "nSpec",
      "result": {
       "data": {
        "text/plain": "1020"
       },
       "metadata": {},
       "status": "ok"
      }
     },
     {
      "expression": "nBands",
      "result": {
       "data": {
        "text/plain": "2151"
       },
       "metadata": {},
       "status": "ok"
      }
     }
    ],
    "vscode": {
     "languageId": "raw"
    }
   },
   "source": [
    "## Totals\n",
    "\n",
    "Min wavelength: `{python} minWl`\\\n",
    "Max wavelength: `{python} maxWl`\\\n",
    "Number of Spectra: `{python} nSpec`\\\n",
    "Number of Bands: `{python} nBands`"
   ]
  },
  {
   "cell_type": "code",
   "execution_count": null,
   "metadata": {},
   "outputs": [],
   "source": [
    "#| label: fig-label\n",
    "#| fig-cap: Number of Occurrences of Each Species\n",
    "#| column: page-inset-right\n",
    "\n",
    "# Count the occurrences of each unique value\n",
    "name_counts = Counter(name)\n",
    "\n",
    "#print(name_counts.items())\n",
    "#print(*name_counts.items())\n",
    "\n",
    "# Extract the labels and values\n",
    "labels, values = zip(*name_counts.items())\n",
    "# Create the horizontal bar plot\n",
    "plt.figure(figsize=(8, 6))\n",
    "bars = plt.barh(labels, values, color='skyblue')\n",
    "# Add text labels on the bars\n",
    "for bar, value in zip(bars, values):\n",
    "    plt.text(bar.get_width(), bar.get_y() + bar.get_height() / 2, str(value), ha='left', va='center')\n",
    "# Set the labels and title\n",
    "plt.ylabel('Species')\n",
    "plt.xlabel('Number of Occurrences')\n",
    "plt.title('Number of Occurrences of Each Species')\n",
    "plt.tight_layout()\n",
    "plt.show()"
   ]
  },
  {
   "cell_type": "code",
   "execution_count": null,
   "metadata": {},
   "outputs": [],
   "source": [
    "#| label: fig-label2\n",
    "#| fig-cap: Number of Occurrences of Each Species-Metadata Combination\n",
    "#| column: page-inset-right\n",
    "\n",
    "# Count the occurrences of each unique value\n",
    "name_full_category_counts = Counter(name_full_category)\n",
    "# Extract the labels and values\n",
    "labels, values = zip(*name_full_category_counts.items())\n",
    "# Create the horizontal bar plot\n",
    "plt.figure(figsize=(10, 14))\n",
    "bars = plt.barh(labels, values, color='skyblue')\n",
    "plt.grid(True)\n",
    "# Add text labels on the bars\n",
    "for bar, value in zip(bars, values):\n",
    "    plt.text(bar.get_width(), bar.get_y() + bar.get_height() / 2, str(value), ha='left', va='center')\n",
    "# Set the labels and title\n",
    "plt.ylabel('Species-Metadata Combination')\n",
    "plt.xlabel('Number of Occurrences')\n",
    "plt.title('Number of Occurrences of Each Species-Metadata Combination')\n",
    "plt.tight_layout()\n",
    "plt.show()\n"
   ]
  },
  {
   "cell_type": "markdown",
   "metadata": {},
   "source": [
    "## Species Comparisons for Salt Water Inundation Testing\n",
    "\n",
    "Below are means of spectra collected for species at specified dates and times (format: date_hour).\n",
    "\n",
    "**Note:**\\\n",
    "Chlorophyll a: Absorption peaks at 430nm (blue) and 662nm (red).\\\n",
    " Chlorophyll b: Absorption peaks at 453nm (blue) and 642nm (red).\\\n",
    "[(Reference)](https://www-archiv.fdm.uni-hamburg.de/b-online/e24/3.htm#:~:text=Absorption%20Spectra%20of%20Chlorophyll%20a,at%20453%20and%20642%20nm..)"
   ]
  },
  {
   "cell_type": "code",
   "execution_count": 11,
   "metadata": {},
   "outputs": [],
   "source": [
    "# Set the fontsize and create a function to colot plots be a specific metadata category\n",
    "def set_color(x, colormap_name = 'tab20'):\n",
    "    # This function returns a dictionary of colors based on the input numpy x of metadata values\n",
    "    # The default colormap is tab10 (tableau 10), but any named colormap can be used\n",
    "    categories = np.unique(x)\n",
    "    if colormap_name == 'custom':\n",
    "        color_list = ['r','g','b','c','m','y','maroon','orange',\n",
    "              'darkgreen','peru','navy','teal',\n",
    "              'indigo','crimson','pink','slategrey',\n",
    "              'darkgoldenrod','purple']\n",
    "        clr = {}\n",
    "        for i,category in enumerate(categories):\n",
    "            clr[category] = color_list[i]\n",
    "    else:\n",
    "        clr = {}\n",
    "        cmap = matplotlib.colormaps.get_cmap(colormap_name)\n",
    "        for i,category in enumerate(categories):\n",
    "            clr[category] = cmap(i/len(categories))\n",
    "    return clr "
   ]
  },
  {
   "cell_type": "code",
   "execution_count": 12,
   "metadata": {},
   "outputs": [],
   "source": [
    "from collections import defaultdict\n",
    "\n",
    "def plot_spectra_for_name_full_category_by_date(name_full_cat: str):\n",
    "    selected_indices = np.where(name_full_category==name_full_cat)[0]\n",
    "    #print(selected_indices)\n",
    "    #print(DateTimeId[selected_indices])\n",
    "\n",
    "    # Group DateTimeId based on the first 11 characters\n",
    "    grouped_dates = defaultdict(list)\n",
    "    for i, date_id in enumerate(DateTimeId[selected_indices]):\n",
    "        group_key = date_id[:11]\n",
    "        # Store the original index from selected_indices\n",
    "        grouped_dates[group_key].append(selected_indices[i])\n",
    "\n",
    "    # Sort the keys (date strings) chronologically\n",
    "    sorted_keys = sorted(grouped_dates.keys())\n",
    "\n",
    "    # Create a new dictionary with sorted keys\n",
    "    sorted_grouped_dates = {key: grouped_dates[key] for key in sorted_keys}\n",
    "\n",
    "    # Print the sorted grouped indices\n",
    "    #for date_key, group in sorted_grouped_dates.items():\n",
    "    #    print(f\"Original Indices for group {date_key}: {group}\")\n",
    "    \n",
    "    \n",
    "    plt.figure(figsize=(14,10))\n",
    "    plt.grid(True)\n",
    "\n",
    "    clr = set_color(range(len(sorted_grouped_dates)), 'custom')\n",
    "\n",
    "\n",
    "    for i, (group_name, group_indices) in enumerate(sorted_grouped_dates.items()):\n",
    "        mean_spectrum = np.mean(spectra[group_indices,:], axis=0)\n",
    "        plt.plot(wl, mean_spectrum, label=group_name, lw=1, c=clr[i])\n",
    "\n",
    "    #for idx in selected_indices:\n",
    "    #    plt.plot(wl, spectra[idx], label=DateTimeId[idx], lw=1, c=clr[DateTimeId[idx]])\n",
    "\n",
    "    plt.xlabel('Wavelength')\n",
    "    plt.ylabel('Refletance')\n",
    "    plt.title(f'{name_full_cat} ({len(selected_indices)} Spectra)')\n",
    "    plt.legend(bbox_to_anchor=(0.0, -0.05), loc='upper left', ncols=3)"
   ]
  },
  {
   "cell_type": "code",
   "execution_count": null,
   "metadata": {},
   "outputs": [],
   "source": [
    "#| column: page-inset-right\n",
    "\n",
    "health_codes = ['SS', 'SY']\n",
    "salt_stress_indices = np.where(np.isin(health, health_codes))[0]\n",
    "#print(len(salt_stress_indices))\n",
    "\n",
    "#salt_stress_indices2 = health[(health == 'SS') | (health == 'SY')]\n",
    "#print(len(salt_stress_indices2))\n",
    "\n",
    "for n in np.unique(name_full_category[salt_stress_indices]):\n",
    "    #print(n)\n",
    "    plot_spectra_for_name_full_category_by_date(n)\n"
   ]
  }
 ],
 "metadata": {
  "kernelspec": {
   "display_name": "Python 3",
   "language": "python",
   "name": "python3"
  },
  "language_info": {
   "codemirror_mode": {
    "name": "ipython",
    "version": 3
   },
   "file_extension": ".py",
   "mimetype": "text/x-python",
   "name": "python",
   "nbconvert_exporter": "python",
   "pygments_lexer": "ipython3",
   "version": "3.12.6"
  }
 },
 "nbformat": 4,
 "nbformat_minor": 2
}
